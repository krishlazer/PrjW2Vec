{
 "cells": [
  {
   "cell_type": "code",
   "execution_count": 73,
   "metadata": {},
   "outputs": [],
   "source": [
    "import numpy as np\n",
    "import tensorflow as tf\n",
    "import tensorflow.keras\n",
    "from tensorflow.keras.models import Sequential\n",
    "from tensorflow.keras.preprocessing.text import Tokenizer\n",
    "from tensorflow.keras.preprocessing.sequence import pad_sequences\n",
    "from tensorflow.keras.layers import Embedding, Flatten, Dropout, Dense, Activation\n",
    "import tensorflow.keras.initializers\n",
    "import gensim.downloader as api\n",
    "import sys\n",
    "import io"
   ]
  },
  {
   "cell_type": "code",
   "execution_count": 46,
   "metadata": {},
   "outputs": [],
   "source": [
    "phyexe = [\n",
    "   'gather all equipments in the lab and start the experiments',\n",
    "   'observe the viscosity of the liquid by dropping balls and measuring',\n",
    "   'concurrent values have not been obtained',\n",
    "   'voltmeter is not well calibrated',\n",
    "   'perform the friction experiment by sliding blocks on the inclined plane',\n",
    "   'tuning fork is not of good quality',\n",
    "   'need is to replace the pack of prisms received',\n",
    "   'project the object kept on the table with a higher inclination'    \n",
    "]"
   ]
  },
  {
   "cell_type": "code",
   "execution_count": 84,
   "metadata": {},
   "outputs": [],
   "source": [
    "fbphy = np.array([1, 1, 0, 0, 1, 0, 0, 1])"
   ]
  },
  {
   "cell_type": "code",
   "execution_count": 48,
   "metadata": {},
   "outputs": [],
   "source": [
    "embedding_index = {}"
   ]
  },
  {
   "cell_type": "code",
   "execution_count": 49,
   "metadata": {},
   "outputs": [],
   "source": [
    "with open('E:/KrishM/PythonPrjs/PyDatasets/glovetwex/glove.twitter.27B.100d.txt', 'r', encoding='utf-8') as fph:\n",
    "  for line in fph:\n",
    "    values = line.split()\n",
    "    word = values[0]\n",
    "    vect = np.array(values[1:], dtype=float)\n",
    "    embedding_index[word] = vect"
   ]
  },
  {
   "cell_type": "code",
   "execution_count": 50,
   "metadata": {},
   "outputs": [],
   "source": [
    "tkn = Tokenizer()"
   ]
  },
  {
   "cell_type": "code",
   "execution_count": 51,
   "metadata": {},
   "outputs": [],
   "source": [
    "tkn.fit_on_texts(phyexe)"
   ]
  },
  {
   "cell_type": "code",
   "execution_count": 52,
   "metadata": {},
   "outputs": [],
   "source": [
    "wdix = tkn.word_index"
   ]
  },
  {
   "cell_type": "code",
   "execution_count": 53,
   "metadata": {},
   "outputs": [
    {
     "data": {
      "text/plain": [
       "{'the': 1,\n",
       " 'of': 2,\n",
       " 'not': 3,\n",
       " 'is': 4,\n",
       " 'and': 5,\n",
       " 'by': 6,\n",
       " 'on': 7,\n",
       " 'gather': 8,\n",
       " 'all': 9,\n",
       " 'equipments': 10,\n",
       " 'in': 11,\n",
       " 'lab': 12,\n",
       " 'start': 13,\n",
       " 'experiments': 14,\n",
       " 'observe': 15,\n",
       " 'viscosity': 16,\n",
       " 'liquid': 17,\n",
       " 'dropping': 18,\n",
       " 'balls': 19,\n",
       " 'measuring': 20,\n",
       " 'concurrent': 21,\n",
       " 'values': 22,\n",
       " 'have': 23,\n",
       " 'been': 24,\n",
       " 'obtained': 25,\n",
       " 'voltmeter': 26,\n",
       " 'well': 27,\n",
       " 'calibrated': 28,\n",
       " 'perform': 29,\n",
       " 'friction': 30,\n",
       " 'experiment': 31,\n",
       " 'sliding': 32,\n",
       " 'blocks': 33,\n",
       " 'inclined': 34,\n",
       " 'plane': 35,\n",
       " 'tuning': 36,\n",
       " 'fork': 37,\n",
       " 'good': 38,\n",
       " 'quality': 39,\n",
       " 'need': 40,\n",
       " 'to': 41,\n",
       " 'replace': 42,\n",
       " 'pack': 43,\n",
       " 'prisms': 44,\n",
       " 'received': 45,\n",
       " 'project': 46,\n",
       " 'object': 47,\n",
       " 'kept': 48,\n",
       " 'table': 49,\n",
       " 'with': 50,\n",
       " 'a': 51,\n",
       " 'higher': 52,\n",
       " 'inclination': 53}"
      ]
     },
     "execution_count": 53,
     "metadata": {},
     "output_type": "execute_result"
    }
   ],
   "source": [
    "wdix"
   ]
  },
  {
   "cell_type": "code",
   "execution_count": 54,
   "metadata": {},
   "outputs": [],
   "source": [
    "vocabsize = len(wdix) + 1"
   ]
  },
  {
   "cell_type": "code",
   "execution_count": 55,
   "metadata": {},
   "outputs": [
    {
     "data": {
      "text/plain": [
       "54"
      ]
     },
     "execution_count": 55,
     "metadata": {},
     "output_type": "execute_result"
    }
   ],
   "source": [
    "vocabsize"
   ]
  },
  {
   "cell_type": "code",
   "execution_count": 56,
   "metadata": {},
   "outputs": [],
   "source": [
    "physq = tkn.texts_to_sequences(phyexe)"
   ]
  },
  {
   "cell_type": "code",
   "execution_count": 57,
   "metadata": {},
   "outputs": [
    {
     "data": {
      "text/plain": [
       "[[8, 9, 10, 11, 1, 12, 5, 13, 1, 14],\n",
       " [15, 1, 16, 2, 1, 17, 6, 18, 19, 5, 20],\n",
       " [21, 22, 23, 3, 24, 25],\n",
       " [26, 4, 3, 27, 28],\n",
       " [29, 1, 30, 31, 6, 32, 33, 7, 1, 34, 35],\n",
       " [36, 37, 4, 3, 2, 38, 39],\n",
       " [40, 4, 41, 42, 1, 43, 2, 44, 45],\n",
       " [46, 1, 47, 48, 7, 1, 49, 50, 51, 52, 53]]"
      ]
     },
     "execution_count": 57,
     "metadata": {},
     "output_type": "execute_result"
    }
   ],
   "source": [
    "physq"
   ]
  },
  {
   "cell_type": "code",
   "execution_count": 58,
   "metadata": {},
   "outputs": [],
   "source": [
    "maxwlen = 15"
   ]
  },
  {
   "cell_type": "code",
   "execution_count": 59,
   "metadata": {},
   "outputs": [],
   "source": [
    "physqpd = pad_sequences(physq, padding='post', maxlen=maxwlen)"
   ]
  },
  {
   "cell_type": "code",
   "execution_count": 60,
   "metadata": {},
   "outputs": [
    {
     "data": {
      "text/plain": [
       "array([[ 8,  9, 10, 11,  1, 12,  5, 13,  1, 14,  0,  0,  0,  0,  0],\n",
       "       [15,  1, 16,  2,  1, 17,  6, 18, 19,  5, 20,  0,  0,  0,  0],\n",
       "       [21, 22, 23,  3, 24, 25,  0,  0,  0,  0,  0,  0,  0,  0,  0],\n",
       "       [26,  4,  3, 27, 28,  0,  0,  0,  0,  0,  0,  0,  0,  0,  0],\n",
       "       [29,  1, 30, 31,  6, 32, 33,  7,  1, 34, 35,  0,  0,  0,  0],\n",
       "       [36, 37,  4,  3,  2, 38, 39,  0,  0,  0,  0,  0,  0,  0,  0],\n",
       "       [40,  4, 41, 42,  1, 43,  2, 44, 45,  0,  0,  0,  0,  0,  0],\n",
       "       [46,  1, 47, 48,  7,  1, 49, 50, 51, 52, 53,  0,  0,  0,  0]])"
      ]
     },
     "execution_count": 60,
     "metadata": {},
     "output_type": "execute_result"
    }
   ],
   "source": [
    "physqpd"
   ]
  },
  {
   "cell_type": "code",
   "execution_count": 77,
   "metadata": {},
   "outputs": [],
   "source": [
    "maxsentlength = physqpd.shape[1]"
   ]
  },
  {
   "cell_type": "code",
   "execution_count": 78,
   "metadata": {},
   "outputs": [
    {
     "data": {
      "text/plain": [
       "15"
      ]
     },
     "execution_count": 78,
     "metadata": {},
     "output_type": "execute_result"
    }
   ],
   "source": [
    "maxsentlength"
   ]
  },
  {
   "cell_type": "code",
   "execution_count": 63,
   "metadata": {},
   "outputs": [],
   "source": [
    "vecdim=100"
   ]
  },
  {
   "cell_type": "code",
   "execution_count": 64,
   "metadata": {
    "scrolled": true
   },
   "outputs": [],
   "source": [
    "embedding_matrix = np.zeros((vocabsize, vecdim))"
   ]
  },
  {
   "cell_type": "code",
   "execution_count": 65,
   "metadata": {},
   "outputs": [],
   "source": [
    "for wrd, i in wdix.items():\n",
    "    embedding_vector = embedding_index.get(wrd)\n",
    "    if embedding_vector is not None:\n",
    "        embedding_matrix[i] = embedding_vector   "
   ]
  },
  {
   "cell_type": "code",
   "execution_count": 67,
   "metadata": {},
   "outputs": [
    {
     "data": {
      "text/plain": [
       "(54, 100)"
      ]
     },
     "execution_count": 67,
     "metadata": {},
     "output_type": "execute_result"
    }
   ],
   "source": [
    "embedding_matrix.shape"
   ]
  },
  {
   "cell_type": "code",
   "execution_count": 82,
   "metadata": {},
   "outputs": [],
   "source": [
    "mdphy = tf.keras.Sequential([\n",
    "    tf.keras.layers.Embedding(vocabsize, vecdim, input_length=maxsentlength, weights=[embedding_matrix], name='embedlayer'),\n",
    "    tf.keras.layers.Flatten(),\n",
    "    tf.keras.layers.Dense(1, activation='sigmoid')    \n",
    "])"
   ]
  },
  {
   "cell_type": "code",
   "execution_count": 83,
   "metadata": {},
   "outputs": [],
   "source": [
    "mdphy.compile(optimizer='adam', loss='binary_crossentropy', metrics=['accuracy'])"
   ]
  },
  {
   "cell_type": "code",
   "execution_count": 85,
   "metadata": {},
   "outputs": [
    {
     "name": "stdout",
     "output_type": "stream",
     "text": [
      "Epoch 1/50\n",
      "1/1 [==============================] - 2s 2s/step - loss: 0.8923 - accuracy: 0.5000\n",
      "Epoch 2/50\n",
      "1/1 [==============================] - 0s 8ms/step - loss: 0.7818 - accuracy: 0.5000\n",
      "Epoch 3/50\n",
      "1/1 [==============================] - 0s 4ms/step - loss: 0.6811 - accuracy: 0.6250\n",
      "Epoch 4/50\n",
      "1/1 [==============================] - 0s 3ms/step - loss: 0.5909 - accuracy: 0.8750\n",
      "Epoch 5/50\n",
      "1/1 [==============================] - 0s 4ms/step - loss: 0.5117 - accuracy: 0.8750\n",
      "Epoch 6/50\n",
      "1/1 [==============================] - 0s 2ms/step - loss: 0.4434 - accuracy: 0.8750\n",
      "Epoch 7/50\n",
      "1/1 [==============================] - 0s 4ms/step - loss: 0.3854 - accuracy: 0.8750\n",
      "Epoch 8/50\n",
      "1/1 [==============================] - 0s 3ms/step - loss: 0.3367 - accuracy: 1.0000\n",
      "Epoch 9/50\n",
      "1/1 [==============================] - 0s 4ms/step - loss: 0.2960 - accuracy: 1.0000\n",
      "Epoch 10/50\n",
      "1/1 [==============================] - 0s 3ms/step - loss: 0.2620 - accuracy: 1.0000\n",
      "Epoch 11/50\n",
      "1/1 [==============================] - 0s 3ms/step - loss: 0.2332 - accuracy: 1.0000\n",
      "Epoch 12/50\n",
      "1/1 [==============================] - 0s 4ms/step - loss: 0.2086 - accuracy: 1.0000\n",
      "Epoch 13/50\n",
      "1/1 [==============================] - 0s 4ms/step - loss: 0.1873 - accuracy: 1.0000\n",
      "Epoch 14/50\n",
      "1/1 [==============================] - 0s 3ms/step - loss: 0.1686 - accuracy: 1.0000\n",
      "Epoch 15/50\n",
      "1/1 [==============================] - 0s 3ms/step - loss: 0.1521 - accuracy: 1.0000\n",
      "Epoch 16/50\n",
      "1/1 [==============================] - 0s 4ms/step - loss: 0.1373 - accuracy: 1.0000\n",
      "Epoch 17/50\n",
      "1/1 [==============================] - 0s 4ms/step - loss: 0.1242 - accuracy: 1.0000\n",
      "Epoch 18/50\n",
      "1/1 [==============================] - 0s 2ms/step - loss: 0.1124 - accuracy: 1.0000\n",
      "Epoch 19/50\n",
      "1/1 [==============================] - 0s 4ms/step - loss: 0.1019 - accuracy: 1.0000\n",
      "Epoch 20/50\n",
      "1/1 [==============================] - 0s 4ms/step - loss: 0.0925 - accuracy: 1.0000\n",
      "Epoch 21/50\n",
      "1/1 [==============================] - 0s 2ms/step - loss: 0.0842 - accuracy: 1.0000\n",
      "Epoch 22/50\n",
      "1/1 [==============================] - 0s 5ms/step - loss: 0.0768 - accuracy: 1.0000\n",
      "Epoch 23/50\n",
      "1/1 [==============================] - 0s 3ms/step - loss: 0.0702 - accuracy: 1.0000\n",
      "Epoch 24/50\n",
      "1/1 [==============================] - 0s 3ms/step - loss: 0.0643 - accuracy: 1.0000\n",
      "Epoch 25/50\n",
      "1/1 [==============================] - 0s 4ms/step - loss: 0.0591 - accuracy: 1.0000\n",
      "Epoch 26/50\n",
      "1/1 [==============================] - 0s 3ms/step - loss: 0.0544 - accuracy: 1.0000\n",
      "Epoch 27/50\n",
      "1/1 [==============================] - 0s 3ms/step - loss: 0.0503 - accuracy: 1.0000\n",
      "Epoch 28/50\n",
      "1/1 [==============================] - 0s 3ms/step - loss: 0.0467 - accuracy: 1.0000\n",
      "Epoch 29/50\n",
      "1/1 [==============================] - 0s 4ms/step - loss: 0.0434 - accuracy: 1.0000\n",
      "Epoch 30/50\n",
      "1/1 [==============================] - 0s 3ms/step - loss: 0.0405 - accuracy: 1.0000\n",
      "Epoch 31/50\n",
      "1/1 [==============================] - 0s 3ms/step - loss: 0.0379 - accuracy: 1.0000\n",
      "Epoch 32/50\n",
      "1/1 [==============================] - 0s 3ms/step - loss: 0.0356 - accuracy: 1.0000\n",
      "Epoch 33/50\n",
      "1/1 [==============================] - 0s 2ms/step - loss: 0.0335 - accuracy: 1.0000\n",
      "Epoch 34/50\n",
      "1/1 [==============================] - 0s 3ms/step - loss: 0.0316 - accuracy: 1.0000\n",
      "Epoch 35/50\n",
      "1/1 [==============================] - 0s 4ms/step - loss: 0.0300 - accuracy: 1.0000\n",
      "Epoch 36/50\n",
      "1/1 [==============================] - 0s 3ms/step - loss: 0.0284 - accuracy: 1.0000\n",
      "Epoch 37/50\n",
      "1/1 [==============================] - 0s 5ms/step - loss: 0.0271 - accuracy: 1.0000\n",
      "Epoch 38/50\n",
      "1/1 [==============================] - 0s 2ms/step - loss: 0.0258 - accuracy: 1.0000\n",
      "Epoch 39/50\n",
      "1/1 [==============================] - 0s 3ms/step - loss: 0.0247 - accuracy: 1.0000\n",
      "Epoch 40/50\n",
      "1/1 [==============================] - 0s 5ms/step - loss: 0.0236 - accuracy: 1.0000\n",
      "Epoch 41/50\n",
      "1/1 [==============================] - 0s 3ms/step - loss: 0.0227 - accuracy: 1.0000\n",
      "Epoch 42/50\n",
      "1/1 [==============================] - 0s 4ms/step - loss: 0.0218 - accuracy: 1.0000\n",
      "Epoch 43/50\n",
      "1/1 [==============================] - 0s 4ms/step - loss: 0.0210 - accuracy: 1.0000\n",
      "Epoch 44/50\n",
      "1/1 [==============================] - 0s 2ms/step - loss: 0.0202 - accuracy: 1.0000\n",
      "Epoch 45/50\n",
      "1/1 [==============================] - 0s 3ms/step - loss: 0.0196 - accuracy: 1.0000\n",
      "Epoch 46/50\n",
      "1/1 [==============================] - 0s 3ms/step - loss: 0.0189 - accuracy: 1.0000\n",
      "Epoch 47/50\n",
      "1/1 [==============================] - 0s 3ms/step - loss: 0.0183 - accuracy: 1.0000\n",
      "Epoch 48/50\n",
      "1/1 [==============================] - 0s 2ms/step - loss: 0.0178 - accuracy: 1.0000\n",
      "Epoch 49/50\n",
      "1/1 [==============================] - 0s 4ms/step - loss: 0.0172 - accuracy: 1.0000\n",
      "Epoch 50/50\n",
      "1/1 [==============================] - 0s 2ms/step - loss: 0.0167 - accuracy: 1.0000\n"
     ]
    },
    {
     "data": {
      "text/plain": [
       "<tensorflow.python.keras.callbacks.History at 0x2a7368de9a0>"
      ]
     },
     "execution_count": 85,
     "metadata": {},
     "output_type": "execute_result"
    }
   ],
   "source": [
    "mdphy.fit(physqpd, fbphy, epochs=50)"
   ]
  },
  {
   "cell_type": "code",
   "execution_count": 102,
   "metadata": {},
   "outputs": [
    {
     "data": {
      "text/plain": [
       "array([-0.10917704,  1.5149344 , -0.05018366,  0.0962468 ,  0.50350934,\n",
       "        0.6314336 , -0.26590052, -0.26071593,  0.17623171, -0.6514037 ,\n",
       "       -0.16159424, -1.468758  , -2.2623951 ,  0.84717894, -0.81736064,\n",
       "       -0.1338281 , -0.41437498, -0.5014846 ,  0.7848743 , -0.11009657,\n",
       "       -0.5435227 , -0.99392176, -0.29327035, -0.38244897, -0.07180441,\n",
       "        1.0689168 ,  0.51086855,  0.9489565 ,  0.6562867 ,  0.14219955,\n",
       "        0.23167084,  0.25749892,  0.65158427,  0.02579416,  0.79756665,\n",
       "        0.1780541 ,  0.4449714 ,  0.00303794,  0.08032856,  0.01683095,\n",
       "        0.6642636 , -0.8372124 , -0.32776785, -0.13209088,  0.072978  ,\n",
       "        0.07228786,  0.9463242 ,  0.28504515, -0.26942027,  0.12422855,\n",
       "        0.5858056 , -0.92457217,  0.45334595,  0.3278904 , -0.6550071 ,\n",
       "       -0.5099243 , -0.00518437,  0.83915585,  0.63119525,  0.11145619,\n",
       "       -0.5510186 ,  0.266418  , -0.36968365,  0.53502476, -0.10077972,\n",
       "        0.74923056, -0.05817597, -0.45382354,  0.1644805 , -0.02739111,\n",
       "        0.05202967, -0.3119672 ,  0.00592265, -0.31333414,  0.25465703,\n",
       "       -0.02190182, -0.12152804, -0.14589386,  0.4038652 ,  0.04850236,\n",
       "        0.3468311 , -0.15038241,  0.07864896,  0.09403506,  0.8741544 ,\n",
       "        0.1511944 ,  0.6186809 ,  0.20738277,  0.40265363,  0.26233277,\n",
       "       -0.14868276, -0.12484165, -0.1334007 , -0.7042123 ,  0.6717217 ,\n",
       "        0.62609386, -0.00992209, -0.35031313,  0.53654987,  0.41449165],\n",
       "      dtype=float32)"
      ]
     },
     "execution_count": 102,
     "metadata": {},
     "output_type": "execute_result"
    }
   ],
   "source": [
    "mdphy.get_layer('embedlayer').get_weights()[0][8]"
   ]
  },
  {
   "cell_type": "code",
   "execution_count": 104,
   "metadata": {
    "scrolled": true
   },
   "outputs": [
    {
     "data": {
      "text/plain": [
       "array([-8.3944e-02,  1.5174e+00, -2.9738e-02,  1.3026e-01,  5.2790e-01,\n",
       "        6.0212e-01, -2.8966e-01, -2.3701e-01,  1.5711e-01, -6.7227e-01,\n",
       "       -1.3447e-01, -1.4390e+00, -2.2780e+00,  8.1202e-01, -8.3838e-01,\n",
       "       -1.1276e-01, -4.3383e-01, -4.7680e-01,  8.0567e-01, -9.0133e-02,\n",
       "       -5.1999e-01, -1.0142e+00, -2.8053e-01, -3.5847e-01, -5.1804e-02,\n",
       "        1.0453e+00,  4.9235e-01,  9.6960e-01,  6.3242e-01,  1.1851e-01,\n",
       "        2.1226e-01,  2.8465e-01,  6.7158e-01,  3.2645e-02,  7.6939e-01,\n",
       "        2.0904e-01,  4.5826e-01, -2.0030e-02,  7.6276e-02,  4.1010e-02,\n",
       "        6.9024e-01, -8.1324e-01, -3.0695e-01, -1.1220e-01,  9.3187e-02,\n",
       "        7.2813e-02,  9.2139e-01,  2.9162e-01, -2.4585e-01,  1.4787e-01,\n",
       "        5.6227e-01, -9.4497e-01,  4.7126e-01,  3.4333e-01, -6.3009e-01,\n",
       "       -5.3019e-01, -2.4074e-02,  8.1539e-01,  6.0735e-01,  8.7136e-02,\n",
       "       -5.7149e-01,  2.4295e-01, -3.5335e-01,  5.5650e-01, -1.0568e-01,\n",
       "        7.2558e-01, -7.7915e-02, -4.6115e-01,  1.9711e-01, -7.0692e-03,\n",
       "        3.2507e-02, -3.3467e-01, -1.8357e-02, -3.3515e-01,  2.5160e-01,\n",
       "        9.3329e-04, -1.0085e-01, -1.2650e-01,  4.2465e-01,  7.2284e-02,\n",
       "        3.2552e-01, -1.2642e-01,  5.4713e-02,  1.0797e-01,  8.9198e-01,\n",
       "        1.2550e-01,  5.8195e-01,  2.1312e-01,  3.8414e-01,  2.3752e-01,\n",
       "       -1.3872e-01, -1.0451e-01, -1.4954e-01, -6.7038e-01,  6.8895e-01,\n",
       "        6.4629e-01, -3.6469e-02, -3.2089e-01,  5.1117e-01,  3.9121e-01])"
      ]
     },
     "execution_count": 104,
     "metadata": {},
     "output_type": "execute_result"
    }
   ],
   "source": [
    "embedding_index.get('gather')"
   ]
  },
  {
   "cell_type": "code",
   "execution_count": 105,
   "metadata": {},
   "outputs": [],
   "source": [
    "phyte = [\n",
    "    'equipments for demonstration have been assembled',\n",
    "    'lab service is undergoing regular upgrade',\n",
    "    'eletrometer is showing wrong readings',\n",
    "    'heat indicator is static for a long time'   \n",
    "    \n",
    "]"
   ]
  },
  {
   "cell_type": "code",
   "execution_count": 106,
   "metadata": {},
   "outputs": [],
   "source": [
    "tkn2 = Tokenizer()"
   ]
  },
  {
   "cell_type": "code",
   "execution_count": 107,
   "metadata": {},
   "outputs": [],
   "source": [
    "tkn2.fit_on_texts(phyte)"
   ]
  },
  {
   "cell_type": "code",
   "execution_count": 108,
   "metadata": {},
   "outputs": [],
   "source": [
    "wdix2 = tkn2.word_index"
   ]
  },
  {
   "cell_type": "code",
   "execution_count": 109,
   "metadata": {},
   "outputs": [],
   "source": [
    "phytesq = tkn2.texts_to_sequences(phyte)"
   ]
  },
  {
   "cell_type": "code",
   "execution_count": 110,
   "metadata": {},
   "outputs": [
    {
     "data": {
      "text/plain": [
       "[[3, 2, 4, 5, 6, 7],\n",
       " [8, 9, 1, 10, 11, 12],\n",
       " [13, 1, 14, 15, 16],\n",
       " [17, 18, 1, 19, 2, 20, 21, 22]]"
      ]
     },
     "execution_count": 110,
     "metadata": {},
     "output_type": "execute_result"
    }
   ],
   "source": [
    "phytesq"
   ]
  },
  {
   "cell_type": "code",
   "execution_count": 111,
   "metadata": {},
   "outputs": [],
   "source": [
    "phytesqpd = pad_sequences(phytesq, maxlen=15, padding='post')"
   ]
  },
  {
   "cell_type": "code",
   "execution_count": 112,
   "metadata": {},
   "outputs": [
    {
     "data": {
      "text/plain": [
       "array([[ 3,  2,  4,  5,  6,  7,  0,  0,  0,  0,  0,  0,  0,  0,  0],\n",
       "       [ 8,  9,  1, 10, 11, 12,  0,  0,  0,  0,  0,  0,  0,  0,  0],\n",
       "       [13,  1, 14, 15, 16,  0,  0,  0,  0,  0,  0,  0,  0,  0,  0],\n",
       "       [17, 18,  1, 19,  2, 20, 21, 22,  0,  0,  0,  0,  0,  0,  0]])"
      ]
     },
     "execution_count": 112,
     "metadata": {},
     "output_type": "execute_result"
    }
   ],
   "source": [
    "phytesqpd"
   ]
  },
  {
   "cell_type": "code",
   "execution_count": 113,
   "metadata": {},
   "outputs": [],
   "source": [
    "preds = mdphy.predict(phytesqpd)"
   ]
  },
  {
   "cell_type": "code",
   "execution_count": 119,
   "metadata": {},
   "outputs": [
    {
     "data": {
      "text/plain": [
       "array([[0.189154  ],\n",
       "       [0.7778413 ],\n",
       "       [0.44598886],\n",
       "       [0.20030951]], dtype=float32)"
      ]
     },
     "execution_count": 119,
     "metadata": {},
     "output_type": "execute_result"
    }
   ],
   "source": [
    "preds"
   ]
  },
  {
   "cell_type": "code",
   "execution_count": 118,
   "metadata": {},
   "outputs": [
    {
     "data": {
      "text/plain": [
       "array([ 9.5152e-02,  3.7024e-01,  5.4291e-01,  1.9621e-01,  4.8205e-02,\n",
       "        3.2033e-01, -5.9638e-01,  1.5868e-02, -1.2989e-01, -6.3028e-01,\n",
       "        8.1944e-02,  2.4164e-01, -6.0990e+00, -6.8557e-01,  5.0354e-01,\n",
       "       -3.4089e-02,  1.1705e-01, -7.7403e-03, -8.6512e-02,  4.3617e-01,\n",
       "       -4.3982e-01,  2.6125e-01, -4.0348e-02, -1.9194e-01,  8.3204e-02,\n",
       "       -5.8246e-01, -3.1923e-02,  1.2630e-01,  4.0120e-01,  6.8906e-02,\n",
       "       -1.0517e-01, -2.0804e-01, -4.2554e-01,  4.7799e-01,  3.4651e-01,\n",
       "        2.4057e-01,  5.0244e-02, -7.2587e-02, -2.4347e-03, -5.0342e-01,\n",
       "       -1.0601e+00, -3.1586e-01, -3.2457e-02, -7.6317e-02,  7.9045e-01,\n",
       "        8.6367e-02, -1.9632e-01,  5.7566e-02,  8.4129e-01, -4.2020e-01,\n",
       "       -1.1335e-03, -8.5632e-02,  6.1910e-02,  2.1423e-01, -1.0356e-01,\n",
       "       -3.6946e-02, -2.6005e-01, -3.5657e-01,  5.4321e-02,  3.0875e-02,\n",
       "        1.4092e-01, -9.1998e-02, -4.1841e-01, -3.1135e-01, -1.4937e-01,\n",
       "       -2.2699e-04, -3.3454e-01, -1.4848e-01, -1.1944e-01, -2.7174e-01,\n",
       "        3.1320e-01, -1.0998e-01, -4.7524e-01,  1.4056e-01,  3.9641e-01,\n",
       "       -4.9413e-02, -4.2601e-01, -2.3576e-01,  6.1482e-02, -3.5313e-02,\n",
       "        2.4161e+00,  2.8979e-01,  3.8882e-01,  3.6779e-01,  2.0685e-01,\n",
       "        1.3992e-01, -4.2459e-01,  4.4590e-01,  2.6234e-01, -4.4834e-01,\n",
       "        3.7196e-03, -2.2521e-01,  1.4764e-01, -3.6417e-01, -1.8493e-01,\n",
       "        2.2282e-01,  4.7626e-01, -5.1083e-01,  4.6877e-01,  3.4882e-01])"
      ]
     },
     "execution_count": 118,
     "metadata": {},
     "output_type": "execute_result"
    }
   ],
   "source": [
    "embedding_matrix[1]"
   ]
  },
  {
   "cell_type": "code",
   "execution_count": 120,
   "metadata": {},
   "outputs": [
    {
     "name": "stderr",
     "output_type": "stream",
     "text": [
      "c:\\users\\dell\\appdata\\local\\programs\\python\\python38\\lib\\site-packages\\tensorflow\\python\\keras\\engine\\sequential.py:450: UserWarning: `model.predict_classes()` is deprecated and will be removed after 2021-01-01. Please use instead:* `np.argmax(model.predict(x), axis=-1)`,   if your model does multi-class classification   (e.g. if it uses a `softmax` last-layer activation).* `(model.predict(x) > 0.5).astype(\"int32\")`,   if your model does binary classification   (e.g. if it uses a `sigmoid` last-layer activation).\n",
      "  warnings.warn('`model.predict_classes()` is deprecated and '\n"
     ]
    },
    {
     "data": {
      "text/plain": [
       "array([[0],\n",
       "       [1],\n",
       "       [0],\n",
       "       [0]])"
      ]
     },
     "execution_count": 120,
     "metadata": {},
     "output_type": "execute_result"
    }
   ],
   "source": [
    "mdphy.predict_classes(phytesqpd)"
   ]
  },
  {
   "cell_type": "code",
   "execution_count": 133,
   "metadata": {},
   "outputs": [
    {
     "data": {
      "text/plain": [
       "array([[0.189154  ],\n",
       "       [0.7778413 ],\n",
       "       [0.44598886],\n",
       "       [0.20030951]], dtype=float32)"
      ]
     },
     "execution_count": 133,
     "metadata": {},
     "output_type": "execute_result"
    }
   ],
   "source": [
    "mdphy.predict(phytesqpd)"
   ]
  },
  {
   "cell_type": "code",
   "execution_count": null,
   "metadata": {},
   "outputs": [],
   "source": []
  }
 ],
 "metadata": {
  "kernelspec": {
   "display_name": "Python 3",
   "language": "python",
   "name": "python3"
  },
  "language_info": {
   "codemirror_mode": {
    "name": "ipython",
    "version": 3
   },
   "file_extension": ".py",
   "mimetype": "text/x-python",
   "name": "python",
   "nbconvert_exporter": "python",
   "pygments_lexer": "ipython3",
   "version": "3.8.1"
  }
 },
 "nbformat": 4,
 "nbformat_minor": 4
}
